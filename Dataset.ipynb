{
 "cells": [
  {
   "cell_type": "code",
   "execution_count": 3,
   "metadata": {},
   "outputs": [
    {
     "name": "stdout",
     "output_type": "stream",
     "text": [
      "Collecting kagglehub\n",
      "  Downloading kagglehub-0.3.4-py3-none-any.whl.metadata (22 kB)\n",
      "Requirement already satisfied: packaging in c:\\users\\arjun\\appdata\\roaming\\python\\python312\\site-packages (from kagglehub) (24.1)\n",
      "Requirement already satisfied: requests in c:\\users\\arjun\\appdata\\local\\programs\\python\\python312\\lib\\site-packages (from kagglehub) (2.32.3)\n",
      "Requirement already satisfied: tqdm in c:\\users\\arjun\\appdata\\local\\programs\\python\\python312\\lib\\site-packages (from kagglehub) (4.67.0)\n",
      "Requirement already satisfied: charset-normalizer<4,>=2 in c:\\users\\arjun\\appdata\\local\\programs\\python\\python312\\lib\\site-packages (from requests->kagglehub) (3.3.2)\n",
      "Requirement already satisfied: idna<4,>=2.5 in c:\\users\\arjun\\appdata\\local\\programs\\python\\python312\\lib\\site-packages (from requests->kagglehub) (3.7)\n",
      "Requirement already satisfied: urllib3<3,>=1.21.1 in c:\\users\\arjun\\appdata\\local\\programs\\python\\python312\\lib\\site-packages (from requests->kagglehub) (2.2.2)\n",
      "Requirement already satisfied: certifi>=2017.4.17 in c:\\users\\arjun\\appdata\\local\\programs\\python\\python312\\lib\\site-packages (from requests->kagglehub) (2024.7.4)\n",
      "Requirement already satisfied: colorama in c:\\users\\arjun\\appdata\\roaming\\python\\python312\\site-packages (from tqdm->kagglehub) (0.4.6)\n",
      "Downloading kagglehub-0.3.4-py3-none-any.whl (43 kB)\n",
      "Installing collected packages: kagglehub\n",
      "Successfully installed kagglehub-0.3.4\n",
      "Note: you may need to restart the kernel to use updated packages.\n"
     ]
    },
    {
     "name": "stderr",
     "output_type": "stream",
     "text": [
      "\n",
      "[notice] A new release of pip is available: 24.2 -> 24.3.1\n",
      "[notice] To update, run: python.exe -m pip install --upgrade pip\n"
     ]
    }
   ],
   "source": [
    "%pip install kagglehub\n"
   ]
  },
  {
   "cell_type": "code",
   "execution_count": 4,
   "metadata": {},
   "outputs": [
    {
     "name": "stderr",
     "output_type": "stream",
     "text": [
      "c:\\Users\\Arjun\\AppData\\Local\\Programs\\Python\\Python312\\Lib\\site-packages\\tqdm\\auto.py:21: TqdmWarning: IProgress not found. Please update jupyter and ipywidgets. See https://ipywidgets.readthedocs.io/en/stable/user_install.html\n",
      "  from .autonotebook import tqdm as notebook_tqdm\n"
     ]
    },
    {
     "name": "stdout",
     "output_type": "stream",
     "text": [
      "Downloading from https://www.kaggle.com/api/v1/datasets/download/amandam1/healthy-vs-diseased-leaf-image-dataset?dataset_version_number=1...\n"
     ]
    },
    {
     "name": "stderr",
     "output_type": "stream",
     "text": [
      "100%|██████████| 6.20G/6.20G [19:17<00:00, 5.76MB/s]  "
     ]
    },
    {
     "name": "stdout",
     "output_type": "stream",
     "text": [
      "Extracting files...\n"
     ]
    },
    {
     "name": "stderr",
     "output_type": "stream",
     "text": [
      "\n"
     ]
    },
    {
     "name": "stdout",
     "output_type": "stream",
     "text": [
      "Path to dataset files: C:\\Users\\Arjun\\.cache\\kagglehub\\datasets\\amandam1\\healthy-vs-diseased-leaf-image-dataset\\versions\\1\n"
     ]
    }
   ],
   "source": [
    "import kagglehub\n",
    "\n",
    "# Download latest version\n",
    "path = kagglehub.dataset_download(\"amandam1/healthy-vs-diseased-leaf-image-dataset\")\n",
    "\n",
    "print(\"Path to dataset files:\", path)"
   ]
  },
  {
   "cell_type": "code",
   "execution_count": 11,
   "metadata": {},
   "outputs": [
    {
     "name": "stdout",
     "output_type": "stream",
     "text": [
      "Images and labels saved successfully.\n"
     ]
    }
   ],
   "source": [
    "\n",
    "import os\n",
    "import random\n",
    "import shutil\n",
    "from pathlib import Path\n",
    "\n",
    "# Set the random seed for reproducibility\n",
    "random.seed(42)\n",
    "\n",
    "# Define the base path for the leaf images database and the output directory\n",
    "base_path = Path(\"A Database of Leaf Images\")\n",
    "output_dir = Path(\"Sampled_Dataset\")\n",
    "\n",
    "# Ensure output directory exists\n",
    "output_dir.mkdir(parents=True, exist_ok=True)\n",
    "\n",
    "# Initialize dataset list\n",
    "dataset = []\n",
    "\n",
    "# Function to sample 10 random images from a folder\n",
    "def get_random_images(folder_path, num_images=10):\n",
    "    all_images = list(folder_path.glob(\"*.jpg\"))  # Adjust if image extensions differ (e.g., \".png\")\n",
    "    sampled_images = random.sample(all_images, min(num_images, len(all_images)))\n",
    "    return sampled_images\n",
    "\n",
    "# Iterate over each plant folder in the base path\n",
    "for plant_folder in base_path.iterdir():\n",
    "    if plant_folder.is_dir():  # Ensure it's a directory\n",
    "        healthy_path = plant_folder / \"healthy\"\n",
    "        diseased_path = plant_folder / \"diseased\"\n",
    "        \n",
    "        # Check if both subfolders exist before proceeding\n",
    "        if healthy_path.exists() and diseased_path.exists():\n",
    "            # Get 10 random images from each \"healthy\" and \"diseased\" folder\n",
    "            healthy_images = get_random_images(healthy_path, 10)\n",
    "            diseased_images = get_random_images(diseased_path, 10)\n",
    "            \n",
    "            # Add to dataset with labels (0 for healthy, 1 for diseased)\n",
    "            dataset.extend([(img, 0) for img in healthy_images])\n",
    "            dataset.extend([(img, 1) for img in diseased_images])\n",
    "\n",
    "# Shuffle the entire dataset\n",
    "random.shuffle(dataset)\n",
    "\n",
    "# Save the images and labels\n",
    "labels_file = output_dir / \"labels.txt\"\n",
    "with labels_file.open(\"w\") as f:\n",
    "    for idx, (image_path, label) in enumerate(dataset):\n",
    "        # Define new path for the image in the output directory\n",
    "        new_image_path = output_dir / f\"{idx}_{'healthy' if label == 0 else 'diseased'}.jpg\"\n",
    "        \n",
    "        # Copy the image to the new path\n",
    "        shutil.copy(image_path, new_image_path)\n",
    "        \n",
    "        # Write the label to the labels file\n",
    "        f.write(f\"{new_image_path.name},{label}\\n\")\n",
    "\n",
    "print(\"Images and labels saved successfully.\")\n"
   ]
  },
  {
   "cell_type": "code",
   "execution_count": null,
   "metadata": {},
   "outputs": [],
   "source": []
  }
 ],
 "metadata": {
  "kernelspec": {
   "display_name": "Python 3",
   "language": "python",
   "name": "python3"
  },
  "language_info": {
   "codemirror_mode": {
    "name": "ipython",
    "version": 3
   },
   "file_extension": ".py",
   "mimetype": "text/x-python",
   "name": "python",
   "nbconvert_exporter": "python",
   "pygments_lexer": "ipython3",
   "version": "3.12.5"
  }
 },
 "nbformat": 4,
 "nbformat_minor": 2
}
